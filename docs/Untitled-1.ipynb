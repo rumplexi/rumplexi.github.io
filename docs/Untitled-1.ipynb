{
 "metadata": {
  "language_info": {
   "codemirror_mode": {
    "name": "ipython",
    "version": 3
   },
   "file_extension": ".py",
   "mimetype": "text/x-python",
   "name": "python",
   "nbconvert_exporter": "python",
   "pygments_lexer": "ipython3",
   "version": 3
  },
  "orig_nbformat": 2
 },
 "nbformat": 4,
 "nbformat_minor": 2,
 "cells": [
  {
   "source": [
    "$\\hat{Y} = \\hat{\\beta}_{0}$\n",
    "\n",
    "위의 식에 따르면 자유롭게 해석이 된다\n"
   ],
   "cell_type": "markdown",
   "metadata": {}
  },
  {
   "source": [
    "간단한 시스템에 의해서 작업이 수행된다면 그러한 문제를 해결할 수 있다\n",
    "\n",
    "따라서 우리는 이러한 문제의 해결에 있어서 작업이 수행되고 있음을 알 수 있다. \n",
    "\n",
    "미친짓이 아닐 수 없다"
   ],
   "cell_type": "markdown",
   "metadata": {}
  }
 ]
}